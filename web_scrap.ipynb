{
 "cells": [
  {
   "cell_type": "markdown",
   "id": "dcb42924",
   "metadata": {},
   "source": [
    "# web scraping\n",
    "\n",
    "Below Notebook is an example of web-scraping on publicly available [*Wikipedia*](https://en.wikipedia.org/) and [*Inyourpocket*](https://www.inyourpocket.com) pages.\n",
    "\n",
    "Table of Contents:\n",
    "1. [Loading required libraries](#1)<br>\n",
    "    1.1 [Installing external packages](#1)<br>\n",
    "    1.2 [Importing the packages that will be used](#1.2)<br>\n",
    "2. [Download data from *Inyourpocket*](#2)<br>\n",
    "3. [Downloading data from *Wikipedia*](#3)<br>\n",
    "\n",
    "I'm using '!*[pip](https://pypi.org/project/pip/)*' as I'm using the *Jupyter Notebook* in the *[Anaconda](https://www.anaconda.com/)* environment."
   ]
  },
  {
   "cell_type": "markdown",
   "id": "b08686d7",
   "metadata": {},
   "source": [
    "<a name='1'></a>\n",
    "## 1. Loading required libraries\n",
    "### 1.1 Installing external packages"
   ]
  },
  {
   "cell_type": "code",
   "execution_count": 1,
   "id": "5e2fe33c",
   "metadata": {},
   "outputs": [],
   "source": [
    "# !pip install pandas\n",
    "# !pip install tqdm"
   ]
  },
  {
   "cell_type": "markdown",
   "id": "abf926c6",
   "metadata": {},
   "source": [
    "Versions of used libraries:\n",
    "\n",
    "|library name|version|\n",
    "|:-:|-:|\n",
    "|[pandas](https://pandas.pydata.org/)|2.0.2|\n",
    "|[tqdm](https://github.com/tqdm/tqdm)|4.65.0|"
   ]
  },
  {
   "cell_type": "markdown",
   "id": "31393b2e",
   "metadata": {},
   "source": [
    "<a name='1.2'></a>\n",
    "### 1.2 Importing the packages that will be used"
   ]
  },
  {
   "cell_type": "code",
   "execution_count": 2,
   "id": "8b71ccb3",
   "metadata": {},
   "outputs": [
    {
     "name": "stderr",
     "output_type": "stream",
     "text": [
      "C:\\Users\\Uzytkownik\\AppData\\Local\\Temp\\ipykernel_24368\\2580572314.py:13: TqdmWarning: IProgress not found. Please update jupyter and ipywidgets. See https://ipywidgets.readthedocs.io/en/stable/user_install.html\n",
      "  from tqdm.autonotebook import tqdm\n"
     ]
    }
   ],
   "source": [
    "#weebscraping\n",
    "import urllib.request # handling url requests\n",
    "from bs4 import BeautifulSoup as bs # handling url requests\n",
    "import json # handling json format\n",
    "from collections import ChainMap # conversion list(dict()) -> dict()\n",
    "from time import sleep # forcing a time delay\n",
    "\n",
    "# local data handling \n",
    "import re\n",
    "import pandas as pd\n",
    "\n",
    "# for loops progress tracking\n",
    "from tqdm.autonotebook import tqdm"
   ]
  },
  {
   "cell_type": "markdown",
   "id": "e91f8c53",
   "metadata": {},
   "source": [
    "<a name='2'></a>\n",
    "## 2. Download data from Inyourpocket"
   ]
  },
  {
   "cell_type": "code",
   "execution_count": 3,
   "id": "48e321e6",
   "metadata": {},
   "outputs": [],
   "source": [
    "def get_url_for_targets(\n",
    "    root:str=\"https://www.inyourpocket.com\",\n",
    "    city:str=\"warsaw\",\n",
    "    category:str=\"restaurants\",\n",
    "    no_page:int=1\n",
    "):\n",
    "    \"\"\"\n",
    "    get_url_for_targets function imports URL links from the 'Inyourpocket' site\n",
    "    \n",
    "    :param root: str; the beginning of URL, if you're using the Inyourpocket site, do not change\n",
    "    :param city: str; city  name, all lowercase ie {'sopot', 'gdansk', 'gdynia', 'warsaw'}\n",
    "    :param category: str; category name, all lowercase ie {'restaurants', 'sightseeing', 'museum'}\n",
    "    :param no_page: int; the number of the page from which we want to scrape the URLs\n",
    "    :return: list of str that are URL links \n",
    "    \"\"\"\n",
    "    # merging  function input data to one URL address\n",
    "    url = ''.join([root,'/',city,'/',category,'?p=',str(no_page)])\n",
    "    \n",
    "    # loading requested page\n",
    "    sauce = urllib.request.urlopen(url).read()\n",
    "    soup = bs(sauce,'lxml')\n",
    "    \n",
    "    # finding all postfix of URL links that redirect to the target\n",
    "    output =  [destination['href'] for destination in soup.find_all(\"a\", {\"class\": \"read_more\"})]\n",
    "    \n",
    "    # adding base to postfixes to create usable URL links\n",
    "    output = [root+url for url in output]\n",
    "    \n",
    "    return output"
   ]
  },
  {
   "cell_type": "markdown",
   "id": "f4bc3219",
   "metadata": {},
   "source": [
    "Test of the function '__get_url_for_targets__':"
   ]
  },
  {
   "cell_type": "code",
   "execution_count": 4,
   "id": "63723daf",
   "metadata": {
    "scrolled": true
   },
   "outputs": [
    {
     "data": {
      "text/plain": [
       "['https://www.inyourpocket.com/warsaw/aioli-cantine_111468v',\n",
       " 'https://www.inyourpocket.com/warsaw/Amrit-Kebab_133462v',\n",
       " 'https://www.inyourpocket.com/warsaw/argo-kuchnia-gruzinska_70057v',\n",
       " 'https://www.inyourpocket.com/warsaw/aruba-sophisticated-ribs-bar_132463v',\n",
       " 'https://www.inyourpocket.com/warsaw/azia-concept_152055v',\n",
       " 'https://www.inyourpocket.com/warsaw/baila-show-dining_169713v',\n",
       " 'https://www.inyourpocket.com/warsaw/banjaluka_107470v',\n",
       " 'https://www.inyourpocket.com/warsaw/bar-bambino_152791v',\n",
       " 'https://www.inyourpocket.com/warsaw/bar-mleczny-familijny_36804v',\n",
       " 'https://www.inyourpocket.com/warsaw/barn-burger_111573v']"
      ]
     },
     "execution_count": 4,
     "metadata": {},
     "output_type": "execute_result"
    }
   ],
   "source": [
    "target_urls = get_url_for_targets()\n",
    "target_urls"
   ]
  },
  {
   "cell_type": "code",
   "execution_count": 5,
   "id": "29c42f16",
   "metadata": {},
   "outputs": [],
   "source": [
    "def get_json(soup:\"bs4.BeautifulSoup\"):\n",
    "    \"\"\"\n",
    "    get_json function converts from bs4.BeautifulSoup JSON script placed in the 'soup' to a Python dictionary \n",
    "    \n",
    "    :param soup: BeautifulSoup object\n",
    "    \n",
    "    :return script: a dictionary of hierarchy as found in JSON script\n",
    "    \"\"\"\n",
    "    script = soup.find(\"script\", {\"type\" : \"application/ld+json\"})\n",
    "    script = script.contents\n",
    "    script = ''.join(script)\n",
    "    script = json.loads(script)\n",
    "    \n",
    "    return script"
   ]
  },
  {
   "cell_type": "markdown",
   "id": "998513bf",
   "metadata": {},
   "source": [
    "Test of the function '__get_json__':"
   ]
  },
  {
   "cell_type": "code",
   "execution_count": 6,
   "id": "29fe2fa8",
   "metadata": {},
   "outputs": [
    {
     "name": "stdout",
     "output_type": "stream",
     "text": [
      "https://www.inyourpocket.com/warsaw/argo-kuchnia-gruzinska_70057v\n"
     ]
    },
    {
     "data": {
      "text/plain": [
       "{'@context': 'http://schema.org',\n",
       " '@type': 'Restaurant',\n",
       " 'name': 'ARGO - Kuchnia Gruzińska',\n",
       " 'url': 'https://www.inyourpocket.com/warsaw/argo-kuchnia-gruzinska_70057v',\n",
       " 'openingHours': 'Tu,We,Th,Fr 16:00-22:00, Sa 13:00-22:00, Su 13:00-22:00',\n",
       " 'servesCuisine': 'Georgian',\n",
       " 'address': {'@type': 'PostalAddress',\n",
       "  'streetAddress': 'ul. Piwna 46',\n",
       "  'addressLocality': 'Warsaw',\n",
       "  'addressCountry': 'PL'},\n",
       " 'geo': {'@type': 'GeoCoordinates',\n",
       "  'latitude': '52.249595566292',\n",
       "  'longitude': '21.011036038399'},\n",
       " 'telephone': '(+48) 22 635 06 03',\n",
       " 'amenityFeature': [{'@type': 'LocationFeatureSpecification',\n",
       "   'value': 'True',\n",
       "   'name': 'Outside seating'}],\n",
       " 'image': ['https://s.inyourpocket.com/gallery/295173.jpg'],\n",
       " 'description': 'Where once was the smallest curry house in all Poland now stands a Georgian chop house which serves brilliant food at cracking prices. The lamb in plum sauce is top notch, and the chinkali (Georgian dumplings) will give any pierogi in town a run for their money. Only a handful of tables, so reserve '}"
      ]
     },
     "execution_count": 6,
     "metadata": {},
     "output_type": "execute_result"
    }
   ],
   "source": [
    "url = target_urls[2]\n",
    "print(url)\n",
    "\n",
    "sauce = urllib.request.urlopen(url).read()\n",
    "soup = bs(sauce,'lxml')\n",
    "\n",
    "get_json(soup)"
   ]
  },
  {
   "cell_type": "code",
   "execution_count": 7,
   "id": "b2a85d04",
   "metadata": {},
   "outputs": [],
   "source": [
    "def flatten_nested_json(input):\n",
    "    \"\"\"\n",
    "    flatten_nested_json function converts the nested dictionary to a dictionary of depth 1 (structured)\n",
    "    \n",
    "    :param input: the nested dictionary\n",
    "    \n",
    "    :return script: a dictionary of depth 1 (not nested)\n",
    "    \"\"\"\n",
    "    output = list()\n",
    "    \n",
    "    nested_dict = list()\n",
    "    \n",
    "    for key, value in input.items():\n",
    "        if isinstance(value, dict):\n",
    "            nested_dict.extend([value])\n",
    "            \n",
    "        elif isinstance(value, list):\n",
    "            nested_dict.extend(value)\n",
    "        else:\n",
    "            output.append({key:value})\n",
    "    \n",
    "    for d in nested_dict:\n",
    "        \n",
    "        if \"latitude\" in d:\n",
    "            output.extend([{\"latitude\": float(d[\"latitude\"])}, {\"longitude\": float(d[\"longitude\"])}])\n",
    "            \n",
    "        elif \"streetAddress\" in d:\n",
    "            output.extend([{i:d[i]} for i in d])\n",
    "        elif \"name\" in d:\n",
    "            output.extend([{d[\"name\"]:bool(d[\"value\"])}])\n",
    "            \n",
    "    \n",
    "    output =  dict(ChainMap(*output))\n",
    "    \n",
    "    return output\n",
    "    \n",
    "def get_data(soup):\n",
    "    \"\"\"\n",
    "    get_data function converts from JSON script in BeautifulSoup object to a structured Python dictionary\n",
    "    \n",
    "    :param soup: BeautifulSoup object\n",
    "    \n",
    "    :return data: a dictionary of depth 1 (structured)\n",
    "    \"\"\"\n",
    "    \n",
    "    data = get_json(soup)\n",
    "    \n",
    "    data = flatten_nested_json(data)\n",
    "    \n",
    "    return data"
   ]
  },
  {
   "cell_type": "markdown",
   "id": "916dd746",
   "metadata": {},
   "source": [
    "Test of the functions '__flatten_nested_json__' and '__get_data__':"
   ]
  },
  {
   "cell_type": "code",
   "execution_count": 8,
   "id": "0fffcaab",
   "metadata": {},
   "outputs": [
    {
     "data": {
      "text/plain": [
       "{'Outside seating': True,\n",
       " 'longitude': 21.011036038399,\n",
       " 'latitude': 52.249595566292,\n",
       " 'addressCountry': 'PL',\n",
       " 'addressLocality': 'Warsaw',\n",
       " 'streetAddress': 'ul. Piwna 46',\n",
       " '@type': 'Restaurant',\n",
       " 'description': 'Where once was the smallest curry house in all Poland now stands a Georgian chop house which serves brilliant food at cracking prices. The lamb in plum sauce is top notch, and the chinkali (Georgian dumplings) will give any pierogi in town a run for their money. Only a handful of tables, so reserve ',\n",
       " 'telephone': '(+48) 22 635 06 03',\n",
       " 'servesCuisine': 'Georgian',\n",
       " 'openingHours': 'Tu,We,Th,Fr 16:00-22:00, Sa 13:00-22:00, Su 13:00-22:00',\n",
       " 'url': 'https://www.inyourpocket.com/warsaw/argo-kuchnia-gruzinska_70057v',\n",
       " 'name': 'ARGO - Kuchnia Gruzińska',\n",
       " '@context': 'http://schema.org'}"
      ]
     },
     "execution_count": 8,
     "metadata": {},
     "output_type": "execute_result"
    }
   ],
   "source": [
    "get_data(soup)"
   ]
  },
  {
   "cell_type": "code",
   "execution_count": 9,
   "id": "0e9e7fae",
   "metadata": {},
   "outputs": [],
   "source": [
    "def scrap_inyourpocket(\n",
    "    city:str=\"warsaw\",\n",
    "    category:str=\"restaurants\",\n",
    "    pages:list=None,\n",
    "    sleep_time=6,\n",
    "    log:bool=True\n",
    "):\n",
    "    \"\"\"\n",
    "    scrap_inyourpocket fetches parameters from each subpage of given URL and returns them in pandas DataFrame\n",
    "    \n",
    "    :param city: str; city  name, all lowercase ie {'sopot', 'gdansk', 'gdynia', 'warsaw'}\n",
    "    :param category: str; category name, all lowercase ie {'restaurants', 'sightseeing', 'museum'}\n",
    "    :param pages: int; the number of the page from which we want to scrape the URLs\n",
    "    :param sleep_time:unsigned int (positive number); the number of seconds to wait after each URL connection (successful or unsuccessful)\n",
    "    :param log: bool; if True, the error log is returned at the end of the scrap_inyourpocket function\n",
    "    \n",
    "    :return: pandas.DataFrame and list(); pandas.Dataframe with found data and list of errors that occurred at connections to each URL\n",
    "    \"\"\"\n",
    "    if pages is None:\n",
    "        return ValueError(\"no page have been given\")\n",
    "    \n",
    "    output_data, log = list(), []\n",
    "    \n",
    "    for no_page in pages:\n",
    "        try:\n",
    "            target_urls = get_url_for_targets(city=city,category=category,no_page=no_page)\n",
    "        except Exception as e:\n",
    "            sleep(sleep_time)\n",
    "            log.append(e)\n",
    "            continue\n",
    "\n",
    "        tqdm_desc_message = \"city:{}, page:{}\".format(city, no_page)\n",
    "        for url in tqdm(target_urls, desc=tqdm_desc_message):\n",
    "            sauce = urllib.request.urlopen(url).read()\n",
    "            soup = bs(sauce,'lxml')\n",
    "            try:\n",
    "                output_data.append(\n",
    "                    get_data(soup)\n",
    "                )\n",
    "                sleep(sleep_time)\n",
    "            except Exception as e:\n",
    "                sleep(sleep_time)\n",
    "                log.append(\"error occurred for URL :{}\\n{}\\n\\n\\n\".format(url, e))\n",
    "            \n",
    "                \n",
    "    return pd.DataFrame(output_data), log"
   ]
  },
  {
   "cell_type": "markdown",
   "id": "510a0bd2",
   "metadata": {},
   "source": [
    "I'm using the '__scrap_inyourpocket__' function in order to collect data on restaurants and sightseeing from the Tri-City (a combination of cities in Poland: Sopot, Gdańsk, and Gdynia)."
   ]
  },
  {
   "cell_type": "code",
   "execution_count": 10,
   "id": "8220f31c",
   "metadata": {},
   "outputs": [
    {
     "name": "stderr",
     "output_type": "stream",
     "text": [
      "100%|██████████| 18/18 [01:59<00:00,  6.65s/it]\n",
      "100%|██████████| 10/10 [01:06<00:00,  6.69s/it]\n",
      "100%|██████████| 10/10 [01:06<00:00,  6.63s/it]\n",
      "100%|██████████| 10/10 [01:05<00:00,  6.54s/it]\n",
      "100%|██████████| 10/10 [01:07<00:00,  6.71s/it]\n"
     ]
    },
    {
     "name": "stdout",
     "output_type": "stream",
     "text": [
      "\n"
     ]
    },
    {
     "name": "stderr",
     "output_type": "stream",
     "text": [
      "100%|██████████| 13/13 [01:23<00:00,  6.44s/it]\n",
      "100%|██████████| 10/10 [01:03<00:00,  6.37s/it]\n",
      "100%|██████████| 10/10 [01:04<00:00,  6.42s/it]\n",
      "100%|██████████| 10/10 [01:04<00:00,  6.47s/it]\n",
      "100%|██████████| 10/10 [01:05<00:00,  6.52s/it]\n",
      "100%|██████████| 10/10 [01:05<00:00,  6.58s/it]\n",
      "100%|██████████| 10/10 [01:07<00:00,  6.70s/it]\n",
      "100%|██████████| 10/10 [01:07<00:00,  6.71s/it]\n",
      "100%|██████████| 10/10 [01:05<00:00,  6.58s/it]\n",
      "100%|██████████| 10/10 [01:06<00:00,  6.62s/it]\n",
      "100%|██████████| 10/10 [01:06<00:00,  6.64s/it]\n",
      "100%|██████████| 10/10 [01:06<00:00,  6.64s/it]\n",
      "100%|██████████| 10/10 [01:06<00:00,  6.65s/it]\n",
      "100%|██████████| 10/10 [01:05<00:00,  6.55s/it]\n",
      "100%|██████████| 2/2 [00:13<00:00,  6.52s/it]\n"
     ]
    },
    {
     "name": "stdout",
     "output_type": "stream",
     "text": [
      "\n"
     ]
    },
    {
     "name": "stderr",
     "output_type": "stream",
     "text": [
      "100%|██████████| 9/9 [00:54<00:00,  6.02s/it]\n",
      "100%|██████████| 10/10 [01:04<00:00,  6.49s/it]\n",
      "100%|██████████| 10/10 [00:59<00:00,  5.92s/it]\n",
      "100%|██████████| 10/10 [01:06<00:00,  6.61s/it]\n",
      "100%|██████████| 10/10 [01:05<00:00,  6.51s/it]"
     ]
    },
    {
     "name": "stdout",
     "output_type": "stream",
     "text": [
      "error ocured for url :https://www.inyourpocket.com/gdynia/luis-mexicantina_165958v\n",
      "Invalid control character at: line 51 column 61 (char 1518)\n",
      "\n",
      "\n",
      " error ocured for url :https://www.inyourpocket.com/gdynia/falla_152773v\n",
      "Invalid control character at: line 53 column 17 (char 1546)\n",
      "\n",
      "\n",
      "\n"
     ]
    },
    {
     "name": "stderr",
     "output_type": "stream",
     "text": [
      "\n"
     ]
    }
   ],
   "source": [
    "tricity = ('sopot', 'gdansk', 'gdynia')\n",
    "pages = (5, 15, 5)\n",
    "\n",
    "# collecting data on restaurants in Tri-City\n",
    "for city,r_pages in zip(tricity, pages):\n",
    "    df, log = scrap_inyourpocket(city=city, pages=range(r_pages))\n",
    "    \n",
    "    # saving a pandas DataFrame to a file in CSV format\n",
    "    df.to_csv('inyourpocket_{}.csv'.format(city, r_pages), index=False)\n",
    "    \n",
    "    # printing occurred errors\n",
    "    print(*log)"
   ]
  },
  {
   "cell_type": "code",
   "execution_count": 11,
   "id": "2a7f6062",
   "metadata": {
    "scrolled": true
   },
   "outputs": [
    {
     "name": "stderr",
     "output_type": "stream",
     "text": [
      "city:sopot, page:0: 100%|██████████| 11/11 [01:10<00:00,  6.43s/it]\n",
      "city:sopot, page:1: 100%|██████████| 10/10 [01:05<00:00,  6.58s/it]\n",
      "city:sopot, page:2: 100%|██████████| 8/8 [00:50<00:00,  6.32s/it]\n",
      "city:sopot, page:3: 0it [00:00, ?it/s]\n"
     ]
    },
    {
     "name": "stdout",
     "output_type": "stream",
     "text": [
      "error ocured for url :https://www.inyourpocket.com/sopot/sopot-fort_20140v\n",
      "Invalid control character at: line 42 column 112 (char 1150)\n",
      "\n",
      "\n",
      " HTTP Error 404: Not Found HTTP Error 404: Not Found HTTP Error 404: Not Found HTTP Error 404: Not Found HTTP Error 404: Not Found HTTP Error 404: Not Found HTTP Error 404: Not Found HTTP Error 404: Not Found HTTP Error 404: Not Found HTTP Error 404: Not Found HTTP Error 404: Not Found HTTP Error 404: Not Found HTTP Error 404: Not Found HTTP Error 404: Not Found HTTP Error 404: Not Found HTTP Error 404: Not Found\n"
     ]
    },
    {
     "name": "stderr",
     "output_type": "stream",
     "text": [
      "city:gdansk, page:0: 100%|██████████| 21/21 [02:16<00:00,  6.49s/it]\n",
      "city:gdansk, page:1: 100%|██████████| 10/10 [01:06<00:00,  6.62s/it]\n",
      "city:gdansk, page:2: 100%|██████████| 10/10 [01:05<00:00,  6.52s/it]\n",
      "city:gdansk, page:3: 100%|██████████| 10/10 [01:04<00:00,  6.42s/it]\n",
      "city:gdansk, page:4: 100%|██████████| 10/10 [01:06<00:00,  6.67s/it]\n",
      "city:gdansk, page:5: 100%|██████████| 10/10 [01:03<00:00,  6.32s/it]\n",
      "city:gdansk, page:6:   0%|          | 0/10 [00:00<?, ?it/s]\n",
      "city:gdansk, page:7: 100%|██████████| 10/10 [01:04<00:00,  6.41s/it]\n",
      "city:gdansk, page:8: 100%|██████████| 10/10 [01:06<00:00,  6.60s/it]\n",
      "city:gdansk, page:9: 100%|██████████| 10/10 [01:06<00:00,  6.68s/it]\n",
      "city:gdansk, page:10: 100%|██████████| 10/10 [01:04<00:00,  6.50s/it]\n",
      "city:gdansk, page:11: 100%|██████████| 10/10 [01:04<00:00,  6.50s/it]\n",
      "city:gdansk, page:12: 100%|██████████| 10/10 [01:05<00:00,  6.52s/it]\n",
      "city:gdansk, page:13: 100%|██████████| 10/10 [01:06<00:00,  6.65s/it]\n",
      "city:gdansk, page:14: 100%|██████████| 10/10 [01:06<00:00,  6.69s/it]\n",
      "city:gdansk, page:15: 100%|██████████| 10/10 [01:06<00:00,  6.68s/it]\n",
      "city:gdansk, page:16: 100%|██████████| 10/10 [01:06<00:00,  6.63s/it]\n",
      "city:gdansk, page:17:  40%|████      | 4/10 [00:26<00:39,  6.53s/it]\n",
      "city:gdansk, page:18: 100%|██████████| 3/3 [00:20<00:00,  6.86s/it]\n"
     ]
    },
    {
     "name": "stdout",
     "output_type": "stream",
     "text": [
      "error ocured for url :https://www.inyourpocket.com/gdansk/amber-museum_20840v\n",
      "Invalid control character at: line 53 column 259 (char 1959)\n",
      "\n",
      "\n",
      " error ocured for url :https://www.inyourpocket.com/gdansk/european-solidarity-centre-ecs_33549v\n",
      "Invalid control character at: line 51 column 175 (char 1842)\n",
      "\n",
      "\n",
      " error ocured for url :https://www.inyourpocket.com/gdansk/father-jankowski-statue_116324v\n",
      "Invalid control character at: line 32 column 138 (char 724)\n",
      "\n",
      "\n",
      " error ocured for url :https://www.inyourpocket.com/gdansk/gdansk-photography-gallery_39959v\n",
      "Invalid control character at: line 35 column 313 (char 1044)\n",
      "\n",
      "\n",
      " HTTP Error 404: Not Found error ocured for url :https://www.inyourpocket.com/gdansk/monument-to-the-fallen-shipyard-workers-of-1970_16205v\n",
      "Invalid control character at: line 34 column 224 (char 975)\n",
      "\n",
      "\n",
      " error ocured for url :https://www.inyourpocket.com/gdansk/monument-to-the-shipyard-tragedy-of-1994_119395v\n",
      "Invalid control character at: line 33 column 135 (char 816)\n",
      "\n",
      "\n",
      " error ocured for url :https://www.inyourpocket.com/gdansk/museum-of-the-national-anthem_164973v\n",
      "Invalid control character at: line 33 column 46 (char 694)\n",
      "\n",
      "\n",
      " error ocured for url :https://www.inyourpocket.com/gdansk/torun_168199v\n",
      "'NoneType' object has no attribute 'contents'\n",
      "\n",
      "\n",
      " error ocured for url :https://www.inyourpocket.com/gdansk/u-boat-hall_119320v\n",
      "Invalid control character at: line 33 column 60 (char 678)\n",
      "\n",
      "\n",
      " HTTP Error 404: Not Found\n"
     ]
    },
    {
     "name": "stderr",
     "output_type": "stream",
     "text": [
      "city:gdynia, page:0: 100%|██████████| 7/7 [00:45<00:00,  6.50s/it]\n",
      "city:gdynia, page:1: 100%|██████████| 10/10 [01:05<00:00,  6.53s/it]\n",
      "city:gdynia, page:2: 100%|██████████| 10/10 [01:07<00:00,  6.71s/it]\n",
      "city:gdynia, page:3:  89%|████████▉ | 8/9 [00:53<00:06,  6.70s/it]\n",
      "city:gdynia, page:4: 0it [00:00, ?it/s]\n"
     ]
    },
    {
     "name": "stdout",
     "output_type": "stream",
     "text": [
      "error ocured for url :https://www.inyourpocket.com/gdynia/emigration-museum_98969v\n",
      "Invalid control character at: line 51 column 139 (char 1774)\n",
      "\n",
      "\n",
      " error ocured for url :https://www.inyourpocket.com/gdynia/antoni-abraham-monument_107933v\n",
      "Invalid control character at: line 31 column 239 (char 770)\n",
      "\n",
      "\n",
      " error ocured for url :https://www.inyourpocket.com/gdynia/displaced-gdynians-monument_132578v\n",
      "Invalid control character at: line 34 column 150 (char 870)\n",
      "\n",
      "\n",
      " HTTP Error 404: Not Found HTTP Error 404: Not Found HTTP Error 404: Not Found HTTP Error 404: Not Found HTTP Error 404: Not Found HTTP Error 404: Not Found HTTP Error 404: Not Found HTTP Error 404: Not Found HTTP Error 404: Not Found HTTP Error 404: Not Found HTTP Error 404: Not Found HTTP Error 404: Not Found HTTP Error 404: Not Found HTTP Error 404: Not Found HTTP Error 404: Not Found HTTP Error 404: Not Found\n"
     ]
    }
   ],
   "source": [
    "tricity = ('sopot', 'gdansk', 'gdynia')\n",
    "pages = (20, 19, 20)\n",
    "\n",
    "# collecting data on sightseeing in Tri-City\n",
    "for city,r_pages in zip(tricity, pages):\n",
    "    df, log = scrap_inyourpocket(city=city, pages=range(r_pages), category='sightseeing')\n",
    "    df.to_csv('inyourpocket_{}_sightseeing.csv'.format(city), index=False)\n",
    "    print(*log)"
   ]
  },
  {
   "cell_type": "markdown",
   "id": "e7af3d71",
   "metadata": {},
   "source": [
    "<a name='3'></a>\n",
    "## 3. Downloading data from *Wikipedia*\n",
    "In this part, I'm downloading the coordinates of railway stations '*SKM*' in Tri-City.\n",
    "\n",
    "Since I only need a small amount of URLs from the Wikipedia page [*List of SKM stops*](https://en.wikipedia.org/wiki/List_of_SKM_stops) and Polish subpages, I copied and pasted them below to avoid multi-level redirects:"
   ]
  },
  {
   "cell_type": "code",
   "execution_count": 12,
   "id": "8173e8e8",
   "metadata": {},
   "outputs": [],
   "source": [
    "stations_url =[\n",
    "    \"https://pl.wikipedia.org/wiki/Gda%C5%84sk_G%C5%82%C3%B3wny\",\n",
    "    \"https://pl.wikipedia.org/wiki/Gda%C5%84sk_Stocznia\",\n",
    "    \"https://pl.wikipedia.org/wiki/Gda%C5%84sk_Politechnika\",\n",
    "    \"https://pl.wikipedia.org/wiki/Gda%C5%84sk_Wrzeszcz\",\n",
    "    \"https://pl.wikipedia.org/wiki/Gda%C5%84sk_Zaspa\",\n",
    "    \"https://pl.wikipedia.org/wiki/Gda%C5%84sk_Przymorze-Uniwersytet\",\n",
    "    \"https://pl.wikipedia.org/wiki/Gda%C5%84sk_Oliwa\",\n",
    "    \"https://pl.wikipedia.org/wiki/Gda%C5%84sk_%C5%BBabianka-AWFiS\",\n",
    "    \"https://pl.wikipedia.org/wiki/Sopot_Wy%C5%9Bcigi\",\n",
    "    \"https://pl.wikipedia.org/wiki/Sopot_(stacja_kolejowa)\",\n",
    "    \"https://pl.wikipedia.org/wiki/Sopot_Kamienny_Potok\",\n",
    "    \"https://pl.wikipedia.org/wiki/Gdynia_Or%C5%82owo\",\n",
    "    \"https://pl.wikipedia.org/wiki/Gdynia_Red%C5%82owo\",\n",
    "    \"https://pl.wikipedia.org/wiki/Gdynia_Wzg%C3%B3rze_%C5%9Aw._Maksymiliana\",\n",
    "    \"https://pl.wikipedia.org/wiki/Gdynia_G%C5%82%C3%B3wna\",\n",
    "    \"https://pl.wikipedia.org/wiki/Gdynia_Stocznia_%E2%80%93_Uniwersytet_Morski\",\n",
    "    \"https://pl.wikipedia.org/wiki/Gdynia_Grab%C3%B3wek\",\n",
    "    \"https://pl.wikipedia.org/wiki/Gdynia_Leszczynki\",\n",
    "    \"https://pl.wikipedia.org/wiki/Gdynia_Chylonia\",\n",
    "    \"https://pl.wikipedia.org/wiki/Gdynia_Cisowa\"\n",
    "]"
   ]
  },
  {
   "cell_type": "markdown",
   "id": "4404b49f",
   "metadata": {},
   "source": [
    "Below, for each URL I'm downloading Web Page title, latitude, and longitude:"
   ]
  },
  {
   "cell_type": "code",
   "execution_count": 13,
   "id": "08f2c9ce",
   "metadata": {},
   "outputs": [
    {
     "name": "stderr",
     "output_type": "stream",
     "text": [
      "100%|██████████| 20/20 [02:06<00:00,  6.32s/it]\n"
     ]
    }
   ],
   "source": [
    "stations = list()\n",
    "\n",
    "for url in tqdm(stations_url):\n",
    "    # loading requested page\n",
    "    sauce = urllib.request.urlopen(url).read()\n",
    "    soup = bs(sauce,'lxml')\n",
    "    station = dict()\n",
    "    station[\"name\"] = soup.find(\"span\", {\"class\": \"mw-page-title-main\"}).text\n",
    "    station[\"latitude\"] = soup.find(\"span\", {\"class\": \"latitude\"}).text\n",
    "    station[\"longitude\"] = soup.find(\"span\", {\"class\": \"longitude\"}).text\n",
    "    stations.append(station)\n",
    "    sleep(6)\n"
   ]
  },
  {
   "cell_type": "markdown",
   "id": "c647b5cf",
   "metadata": {},
   "source": [
    "Below is a preview of the collected data:"
   ]
  },
  {
   "cell_type": "code",
   "execution_count": 14,
   "id": "c40bae7a",
   "metadata": {},
   "outputs": [
    {
     "data": {
      "text/html": [
       "<div>\n",
       "<style scoped>\n",
       "    .dataframe tbody tr th:only-of-type {\n",
       "        vertical-align: middle;\n",
       "    }\n",
       "\n",
       "    .dataframe tbody tr th {\n",
       "        vertical-align: top;\n",
       "    }\n",
       "\n",
       "    .dataframe thead th {\n",
       "        text-align: right;\n",
       "    }\n",
       "</style>\n",
       "<table border=\"1\" class=\"dataframe\">\n",
       "  <thead>\n",
       "    <tr style=\"text-align: right;\">\n",
       "      <th></th>\n",
       "      <th>name</th>\n",
       "      <th>latitude</th>\n",
       "      <th>longitude</th>\n",
       "    </tr>\n",
       "  </thead>\n",
       "  <tbody>\n",
       "    <tr>\n",
       "      <th>0</th>\n",
       "      <td>Gdańsk Główny</td>\n",
       "      <td>54°21′26″N</td>\n",
       "      <td>18°38′40″E</td>\n",
       "    </tr>\n",
       "    <tr>\n",
       "      <th>1</th>\n",
       "      <td>Gdańsk Stocznia</td>\n",
       "      <td>54°21′55″N</td>\n",
       "      <td>18°38′27″E</td>\n",
       "    </tr>\n",
       "    <tr>\n",
       "      <th>2</th>\n",
       "      <td>Gdańsk Politechnika</td>\n",
       "      <td>54°22′27″N</td>\n",
       "      <td>18°37′38″E</td>\n",
       "    </tr>\n",
       "    <tr>\n",
       "      <th>3</th>\n",
       "      <td>Gdańsk Wrzeszcz</td>\n",
       "      <td>54°22′55″N</td>\n",
       "      <td>18°36′19″E</td>\n",
       "    </tr>\n",
       "    <tr>\n",
       "      <th>4</th>\n",
       "      <td>Gdańsk Zaspa</td>\n",
       "      <td>54°23′22″N</td>\n",
       "      <td>18°35′30″E</td>\n",
       "    </tr>\n",
       "  </tbody>\n",
       "</table>\n",
       "</div>"
      ],
      "text/plain": [
       "                  name    latitude   longitude\n",
       "0        Gdańsk Główny  54°21′26″N  18°38′40″E\n",
       "1      Gdańsk Stocznia  54°21′55″N  18°38′27″E\n",
       "2  Gdańsk Politechnika  54°22′27″N  18°37′38″E\n",
       "3      Gdańsk Wrzeszcz  54°22′55″N  18°36′19″E\n",
       "4         Gdańsk Zaspa  54°23′22″N  18°35′30″E"
      ]
     },
     "execution_count": 14,
     "metadata": {},
     "output_type": "execute_result"
    }
   ],
   "source": [
    "df = pd.DataFrame(stations)\n",
    "df.head()"
   ]
  },
  {
   "cell_type": "markdown",
   "id": "8b4ab116",
   "metadata": {},
   "source": [
    "Since I will need latitude and longitude in floating point format in the future, I need to convert the coordinates:"
   ]
  },
  {
   "cell_type": "code",
   "execution_count": 15,
   "id": "d9322d02",
   "metadata": {},
   "outputs": [
    {
     "data": {
      "text/html": [
       "<div>\n",
       "<style scoped>\n",
       "    .dataframe tbody tr th:only-of-type {\n",
       "        vertical-align: middle;\n",
       "    }\n",
       "\n",
       "    .dataframe tbody tr th {\n",
       "        vertical-align: top;\n",
       "    }\n",
       "\n",
       "    .dataframe thead th {\n",
       "        text-align: right;\n",
       "    }\n",
       "</style>\n",
       "<table border=\"1\" class=\"dataframe\">\n",
       "  <thead>\n",
       "    <tr style=\"text-align: right;\">\n",
       "      <th></th>\n",
       "      <th>name</th>\n",
       "      <th>latitude</th>\n",
       "      <th>longitude</th>\n",
       "    </tr>\n",
       "  </thead>\n",
       "  <tbody>\n",
       "    <tr>\n",
       "      <th>0</th>\n",
       "      <td>Gdańsk Główny</td>\n",
       "      <td>54.357222</td>\n",
       "      <td>18.644444</td>\n",
       "    </tr>\n",
       "    <tr>\n",
       "      <th>1</th>\n",
       "      <td>Gdańsk Stocznia</td>\n",
       "      <td>54.365278</td>\n",
       "      <td>18.640833</td>\n",
       "    </tr>\n",
       "    <tr>\n",
       "      <th>2</th>\n",
       "      <td>Gdańsk Politechnika</td>\n",
       "      <td>54.374167</td>\n",
       "      <td>18.627222</td>\n",
       "    </tr>\n",
       "    <tr>\n",
       "      <th>3</th>\n",
       "      <td>Gdańsk Wrzeszcz</td>\n",
       "      <td>54.381944</td>\n",
       "      <td>18.605278</td>\n",
       "    </tr>\n",
       "    <tr>\n",
       "      <th>4</th>\n",
       "      <td>Gdańsk Zaspa</td>\n",
       "      <td>54.389444</td>\n",
       "      <td>18.591667</td>\n",
       "    </tr>\n",
       "  </tbody>\n",
       "</table>\n",
       "</div>"
      ],
      "text/plain": [
       "                  name   latitude  longitude\n",
       "0        Gdańsk Główny  54.357222  18.644444\n",
       "1      Gdańsk Stocznia  54.365278  18.640833\n",
       "2  Gdańsk Politechnika  54.374167  18.627222\n",
       "3      Gdańsk Wrzeszcz  54.381944  18.605278\n",
       "4         Gdańsk Zaspa  54.389444  18.591667"
      ]
     },
     "execution_count": 15,
     "metadata": {},
     "output_type": "execute_result"
    }
   ],
   "source": [
    "def coord_to_float(x:str):\n",
    "    output = re.findall('\\d+',x)\n",
    "    output[0] = output[0]+'.'\n",
    "    output = sum(float(output[i])/60**i for i in range(len(output)))\n",
    "    \n",
    "    return output\n",
    "\n",
    "df[\"latitude\"] = df[\"latitude\"].map(lambda x: coord_to_float(x))\n",
    "df[\"longitude\"] = df[\"longitude\"].map(lambda x: coord_to_float(x))\n",
    "df.head()"
   ]
  },
  {
   "cell_type": "markdown",
   "id": "e0ebe8e7",
   "metadata": {},
   "source": [
    "Since the railway stations data looks fine, I'm saving it to a text file in CSV format:"
   ]
  },
  {
   "cell_type": "code",
   "execution_count": 16,
   "id": "abb9914a",
   "metadata": {},
   "outputs": [],
   "source": [
    "df.to_csv('tricity_stations_coordinates.csv'.format(city), index=False)"
   ]
  }
 ],
 "metadata": {
  "kernelspec": {
   "display_name": "Python 3 (ipykernel)",
   "language": "python",
   "name": "python3"
  },
  "language_info": {
   "codemirror_mode": {
    "name": "ipython",
    "version": 3
   },
   "file_extension": ".py",
   "mimetype": "text/x-python",
   "name": "python",
   "nbconvert_exporter": "python",
   "pygments_lexer": "ipython3",
   "version": "3.8.16"
  }
 },
 "nbformat": 4,
 "nbformat_minor": 5
}
